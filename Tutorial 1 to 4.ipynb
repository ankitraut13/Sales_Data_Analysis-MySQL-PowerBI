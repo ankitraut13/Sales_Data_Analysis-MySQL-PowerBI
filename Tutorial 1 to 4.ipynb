{
 "cells": [
  {
   "cell_type": "markdown",
   "metadata": {},
   "source": [
    "# python learning\n",
    "\n",
    "## Tutorial 1 to 4\n",
    "\n",
    "datatypes\n"
   ]
  },
  {
   "cell_type": "code",
   "execution_count": 91,
   "metadata": {},
   "outputs": [
    {
     "data": {
      "text/plain": [
       "2"
      ]
     },
     "execution_count": 91,
     "metadata": {},
     "output_type": "execute_result"
    }
   ],
   "source": [
    "1+1"
   ]
  },
  {
   "cell_type": "code",
   "execution_count": 92,
   "metadata": {},
   "outputs": [
    {
     "data": {
      "text/plain": [
       "20"
      ]
     },
     "execution_count": 92,
     "metadata": {},
     "output_type": "execute_result"
    }
   ],
   "source": [
    "4*5"
   ]
  },
  {
   "cell_type": "code",
   "execution_count": 93,
   "metadata": {},
   "outputs": [
    {
     "data": {
      "text/plain": [
       "100"
      ]
     },
     "execution_count": 93,
     "metadata": {},
     "output_type": "execute_result"
    }
   ],
   "source": [
    "10**2"
   ]
  },
  {
   "cell_type": "code",
   "execution_count": 94,
   "metadata": {},
   "outputs": [
    {
     "data": {
      "text/plain": [
       "'string'"
      ]
     },
     "execution_count": 94,
     "metadata": {},
     "output_type": "execute_result"
    }
   ],
   "source": [
    "'string'"
   ]
  },
  {
   "cell_type": "code",
   "execution_count": 95,
   "metadata": {},
   "outputs": [
    {
     "data": {
      "text/plain": [
       "'ankitankitankitankitankitankitankitankitankitankit'"
      ]
     },
     "execution_count": 95,
     "metadata": {},
     "output_type": "execute_result"
    }
   ],
   "source": [
    "10*'ankit'"
   ]
  },
  {
   "cell_type": "code",
   "execution_count": 96,
   "metadata": {},
   "outputs": [
    {
     "data": {
      "text/plain": [
       "str"
      ]
     },
     "execution_count": 96,
     "metadata": {},
     "output_type": "execute_result"
    }
   ],
   "source": [
    "type('ankit')"
   ]
  },
  {
   "cell_type": "code",
   "execution_count": 97,
   "metadata": {},
   "outputs": [
    {
     "data": {
      "text/plain": [
       "float"
      ]
     },
     "execution_count": 97,
     "metadata": {},
     "output_type": "execute_result"
    }
   ],
   "source": [
    "type(0.1)"
   ]
  },
  {
   "cell_type": "code",
   "execution_count": 98,
   "metadata": {},
   "outputs": [
    {
     "name": "stdout",
     "output_type": "stream",
     "text": [
      "22\n",
      "14\n",
      "2\n"
     ]
    }
   ],
   "source": [
    "a=11\n",
    "b=3\n",
    "\n",
    "print(a*2)\n",
    "print(a+b)\n",
    "print(a%b)"
   ]
  },
  {
   "cell_type": "code",
   "execution_count": 99,
   "metadata": {},
   "outputs": [
    {
     "name": "stdout",
     "output_type": "stream",
     "text": [
      "my first name is ankit and my last name is raut\n"
     ]
    }
   ],
   "source": [
    "first_name = \"ankit\"\n",
    "last_name = \" raut\"\n",
    "print(\"my first name is {a} and my last name is{b}\".format(b=last_name,a=first_name))"
   ]
  },
  {
   "cell_type": "code",
   "execution_count": 100,
   "metadata": {},
   "outputs": [
    {
     "data": {
      "text/plain": [
       "5"
      ]
     },
     "execution_count": 100,
     "metadata": {},
     "output_type": "execute_result"
    }
   ],
   "source": [
    "len('ankit')"
   ]
  },
  {
   "cell_type": "code",
   "execution_count": 101,
   "metadata": {},
   "outputs": [
    {
     "name": "stdout",
     "output_type": "stream",
     "text": [
      "True\n",
      "True\n",
      "False\n",
      "True\n",
      "Ankit\n",
      "ankit\n"
     ]
    }
   ],
   "source": [
    "str='ankit'\n",
    "print(str.isalnum())\n",
    "print(str.isalpha())\n",
    "print(str.startswith('A'))\n",
    "print(str.endswith('t'))\n",
    "print(str.capitalize())\n",
    "print(str.lower())\n"
   ]
  },
  {
   "cell_type": "code",
   "execution_count": 102,
   "metadata": {},
   "outputs": [
    {
     "data": {
      "text/plain": [
       "True"
      ]
     },
     "execution_count": 102,
     "metadata": {},
     "output_type": "execute_result"
    }
   ],
   "source": [
    "True or False"
   ]
  },
  {
   "cell_type": "code",
   "execution_count": 103,
   "metadata": {},
   "outputs": [
    {
     "data": {
      "text/plain": [
       "False"
      ]
     },
     "execution_count": 103,
     "metadata": {},
     "output_type": "execute_result"
    }
   ],
   "source": [
    "True and False"
   ]
  },
  {
   "cell_type": "code",
   "execution_count": 104,
   "metadata": {},
   "outputs": [
    {
     "data": {
      "text/plain": [
       "True"
      ]
     },
     "execution_count": 104,
     "metadata": {},
     "output_type": "execute_result"
    }
   ],
   "source": [
    "True and True"
   ]
  },
  {
   "cell_type": "code",
   "execution_count": 105,
   "metadata": {},
   "outputs": [
    {
     "name": "stdout",
     "output_type": "stream",
     "text": [
      "C =a or b = True\n"
     ]
    }
   ],
   "source": [
    "a=False and False\n",
    "b=True or False\n",
    "print(\"C =a or b = {c}\".format(c= a or b))"
   ]
  },
  {
   "cell_type": "code",
   "execution_count": 106,
   "metadata": {},
   "outputs": [
    {
     "name": "stdout",
     "output_type": "stream",
     "text": [
      "1 or 1 = 1\n"
     ]
    }
   ],
   "source": [
    "print('1 or 1 = {a}'.format(a= 1 or 1))"
   ]
  },
  {
   "cell_type": "code",
   "execution_count": 107,
   "metadata": {},
   "outputs": [
    {
     "data": {
      "text/plain": [
       "False"
      ]
     },
     "execution_count": 107,
     "metadata": {},
     "output_type": "execute_result"
    }
   ],
   "source": [
    "False and False"
   ]
  },
  {
   "cell_type": "markdown",
   "metadata": {},
   "source": [
    "# list"
   ]
  },
  {
   "cell_type": "code",
   "execution_count": 108,
   "metadata": {},
   "outputs": [
    {
     "data": {
      "text/plain": [
       "list"
      ]
     },
     "execution_count": 108,
     "metadata": {},
     "output_type": "execute_result"
    }
   ],
   "source": [
    "type([])"
   ]
  },
  {
   "cell_type": "code",
   "execution_count": 109,
   "metadata": {},
   "outputs": [
    {
     "data": {
      "text/plain": [
       "list"
      ]
     },
     "execution_count": 109,
     "metadata": {},
     "output_type": "execute_result"
    }
   ],
   "source": [
    "india=list()\n",
    "type(india)"
   ]
  },
  {
   "cell_type": "code",
   "execution_count": 110,
   "metadata": {},
   "outputs": [],
   "source": [
    "india=[\"maharashtra\",\"Gujrat\",'U.P','M.P','Punjab',\"Rajstan\"]"
   ]
  },
  {
   "cell_type": "code",
   "execution_count": 111,
   "metadata": {},
   "outputs": [
    {
     "data": {
      "text/plain": [
       "['maharashtra', 'Gujrat', 'U.P', 'M.P', 'Punjab']"
      ]
     },
     "execution_count": 111,
     "metadata": {},
     "output_type": "execute_result"
    }
   ],
   "source": [
    "## indexing\n",
    "india[0:5]"
   ]
  },
  {
   "cell_type": "code",
   "execution_count": 112,
   "metadata": {},
   "outputs": [
    {
     "data": {
      "text/plain": [
       "'U.P'"
      ]
     },
     "execution_count": 112,
     "metadata": {},
     "output_type": "execute_result"
    }
   ],
   "source": [
    "## indexing\n",
    "india[2]"
   ]
  },
  {
   "cell_type": "code",
   "execution_count": 113,
   "metadata": {},
   "outputs": [
    {
     "name": "stdout",
     "output_type": "stream",
     "text": [
      "area wise largest state is Rajstan\n"
     ]
    }
   ],
   "source": [
    "print(\"area wise largest state is {a}\".format(a=india[5]))"
   ]
  },
  {
   "cell_type": "code",
   "execution_count": 114,
   "metadata": {},
   "outputs": [],
   "source": [
    "india.append(\"bihar\")"
   ]
  },
  {
   "cell_type": "code",
   "execution_count": 115,
   "metadata": {},
   "outputs": [],
   "source": [
    "india.append(\"C.G\")"
   ]
  },
  {
   "cell_type": "code",
   "execution_count": 116,
   "metadata": {},
   "outputs": [
    {
     "data": {
      "text/plain": [
       "['maharashtra', 'Gujrat', 'U.P', 'M.P', 'Punjab', 'Rajstan', 'bihar', 'C.G']"
      ]
     },
     "execution_count": 116,
     "metadata": {},
     "output_type": "execute_result"
    }
   ],
   "source": [
    "india"
   ]
  },
  {
   "cell_type": "code",
   "execution_count": 117,
   "metadata": {},
   "outputs": [
    {
     "data": {
      "text/plain": [
       "8"
      ]
     },
     "execution_count": 117,
     "metadata": {},
     "output_type": "execute_result"
    }
   ],
   "source": [
    "len(india)"
   ]
  },
  {
   "cell_type": "code",
   "execution_count": 118,
   "metadata": {},
   "outputs": [],
   "source": [
    "##insert\n",
    "india.insert(3,\"Delhi\")"
   ]
  },
  {
   "cell_type": "code",
   "execution_count": 119,
   "metadata": {},
   "outputs": [
    {
     "data": {
      "text/plain": [
       "['maharashtra',\n",
       " 'Gujrat',\n",
       " 'U.P',\n",
       " 'Delhi',\n",
       " 'M.P',\n",
       " 'Punjab',\n",
       " 'Rajstan',\n",
       " 'bihar',\n",
       " 'C.G']"
      ]
     },
     "execution_count": 119,
     "metadata": {},
     "output_type": "execute_result"
    }
   ],
   "source": [
    "india"
   ]
  },
  {
   "cell_type": "code",
   "execution_count": 120,
   "metadata": {},
   "outputs": [],
   "source": [
    "##india.append([\"H.p\",\"A.P\"])"
   ]
  },
  {
   "cell_type": "code",
   "execution_count": 121,
   "metadata": {},
   "outputs": [
    {
     "data": {
      "text/plain": [
       "['maharashtra',\n",
       " 'Gujrat',\n",
       " 'U.P',\n",
       " 'Delhi',\n",
       " 'M.P',\n",
       " 'Punjab',\n",
       " 'Rajstan',\n",
       " 'bihar',\n",
       " 'C.G']"
      ]
     },
     "execution_count": 121,
     "metadata": {},
     "output_type": "execute_result"
    }
   ],
   "source": [
    "india"
   ]
  },
  {
   "cell_type": "code",
   "execution_count": 122,
   "metadata": {},
   "outputs": [],
   "source": [
    "india.insert(1,[\"H.P\",\"A.P\"])"
   ]
  },
  {
   "cell_type": "code",
   "execution_count": 123,
   "metadata": {},
   "outputs": [
    {
     "data": {
      "text/plain": [
       "['maharashtra',\n",
       " ['H.P', 'A.P'],\n",
       " 'Gujrat',\n",
       " 'U.P',\n",
       " 'Delhi',\n",
       " 'M.P',\n",
       " 'Punjab',\n",
       " 'Rajstan',\n",
       " 'bihar',\n",
       " 'C.G']"
      ]
     },
     "execution_count": 123,
     "metadata": {},
     "output_type": "execute_result"
    }
   ],
   "source": [
    "india"
   ]
  },
  {
   "cell_type": "code",
   "execution_count": 124,
   "metadata": {},
   "outputs": [],
   "source": [
    "india.extend(['J&K',\"TN\"])"
   ]
  },
  {
   "cell_type": "code",
   "execution_count": 125,
   "metadata": {},
   "outputs": [
    {
     "data": {
      "text/plain": [
       "['maharashtra',\n",
       " ['H.P', 'A.P'],\n",
       " 'Gujrat',\n",
       " 'U.P',\n",
       " 'Delhi',\n",
       " 'M.P',\n",
       " 'Punjab',\n",
       " 'Rajstan',\n",
       " 'bihar',\n",
       " 'C.G',\n",
       " 'J&K',\n",
       " 'TN']"
      ]
     },
     "execution_count": 125,
     "metadata": {},
     "output_type": "execute_result"
    }
   ],
   "source": [
    "india"
   ]
  },
  {
   "cell_type": "code",
   "execution_count": 126,
   "metadata": {},
   "outputs": [
    {
     "data": {
      "text/plain": [
       "list"
      ]
     },
     "execution_count": 126,
     "metadata": {},
     "output_type": "execute_result"
    }
   ],
   "source": [
    "lst=list()\n",
    "type(lst)"
   ]
  },
  {
   "cell_type": "code",
   "execution_count": 127,
   "metadata": {},
   "outputs": [
    {
     "data": {
      "text/plain": [
       "4"
      ]
     },
     "execution_count": 127,
     "metadata": {},
     "output_type": "execute_result"
    }
   ],
   "source": [
    "lst=[1,2,2,2,2,3,4,6]\n",
    "lst.count(2)"
   ]
  },
  {
   "cell_type": "code",
   "execution_count": 128,
   "metadata": {},
   "outputs": [],
   "source": [
    "lst.insert(4,11)"
   ]
  },
  {
   "cell_type": "code",
   "execution_count": 129,
   "metadata": {},
   "outputs": [
    {
     "data": {
      "text/plain": [
       "[1, 2, 2, 2, 11, 2, 3, 4, 6]"
      ]
     },
     "execution_count": 129,
     "metadata": {},
     "output_type": "execute_result"
    }
   ],
   "source": [
    "lst"
   ]
  },
  {
   "cell_type": "code",
   "execution_count": 130,
   "metadata": {},
   "outputs": [
    {
     "data": {
      "text/plain": [
       "33"
      ]
     },
     "execution_count": 130,
     "metadata": {},
     "output_type": "execute_result"
    }
   ],
   "source": [
    "sum(lst)"
   ]
  },
  {
   "cell_type": "code",
   "execution_count": 131,
   "metadata": {},
   "outputs": [],
   "source": [
    "lst.reverse()"
   ]
  },
  {
   "cell_type": "code",
   "execution_count": 132,
   "metadata": {},
   "outputs": [
    {
     "data": {
      "text/plain": [
       "[6, 4, 3, 2, 11, 2, 2, 2, 1]"
      ]
     },
     "execution_count": 132,
     "metadata": {},
     "output_type": "execute_result"
    }
   ],
   "source": [
    "lst"
   ]
  },
  {
   "cell_type": "code",
   "execution_count": 133,
   "metadata": {},
   "outputs": [
    {
     "data": {
      "text/plain": [
       "[6, 4, 3, 2, 11, 2, 2, 2, 1, 6, 4, 3, 2, 11, 2, 2, 2, 1]"
      ]
     },
     "execution_count": 133,
     "metadata": {},
     "output_type": "execute_result"
    }
   ],
   "source": [
    "2*(lst)"
   ]
  },
  {
   "cell_type": "code",
   "execution_count": 134,
   "metadata": {},
   "outputs": [
    {
     "data": {
      "text/plain": [
       "6"
      ]
     },
     "execution_count": 134,
     "metadata": {},
     "output_type": "execute_result"
    }
   ],
   "source": [
    "lst.pop(0)"
   ]
  },
  {
   "cell_type": "code",
   "execution_count": 135,
   "metadata": {},
   "outputs": [
    {
     "data": {
      "text/plain": [
       "[4, 3, 2, 11, 2, 2, 2, 1]"
      ]
     },
     "execution_count": 135,
     "metadata": {},
     "output_type": "execute_result"
    }
   ],
   "source": [
    "lst"
   ]
  },
  {
   "cell_type": "code",
   "execution_count": 136,
   "metadata": {},
   "outputs": [
    {
     "data": {
      "text/plain": [
       "1"
      ]
     },
     "execution_count": 136,
     "metadata": {},
     "output_type": "execute_result"
    }
   ],
   "source": [
    "lst.pop()"
   ]
  },
  {
   "cell_type": "code",
   "execution_count": 137,
   "metadata": {},
   "outputs": [
    {
     "data": {
      "text/plain": [
       "[4, 3, 2, 11, 2, 2, 2]"
      ]
     },
     "execution_count": 137,
     "metadata": {},
     "output_type": "execute_result"
    }
   ],
   "source": [
    "lst"
   ]
  },
  {
   "cell_type": "code",
   "execution_count": 138,
   "metadata": {},
   "outputs": [
    {
     "data": {
      "text/plain": [
       "3"
      ]
     },
     "execution_count": 138,
     "metadata": {},
     "output_type": "execute_result"
    }
   ],
   "source": [
    "lst.pop(1)"
   ]
  },
  {
   "cell_type": "code",
   "execution_count": 139,
   "metadata": {},
   "outputs": [
    {
     "data": {
      "text/plain": [
       "[4, 2, 11, 2, 2, 2]"
      ]
     },
     "execution_count": 139,
     "metadata": {},
     "output_type": "execute_result"
    }
   ],
   "source": [
    "lst"
   ]
  },
  {
   "cell_type": "code",
   "execution_count": 140,
   "metadata": {},
   "outputs": [
    {
     "data": {
      "text/plain": [
       "4"
      ]
     },
     "execution_count": 140,
     "metadata": {},
     "output_type": "execute_result"
    }
   ],
   "source": [
    "lst.count(2)"
   ]
  },
  {
   "cell_type": "code",
   "execution_count": 141,
   "metadata": {},
   "outputs": [
    {
     "data": {
      "text/plain": [
       "6"
      ]
     },
     "execution_count": 141,
     "metadata": {},
     "output_type": "execute_result"
    }
   ],
   "source": [
    "len(lst)"
   ]
  },
  {
   "cell_type": "code",
   "execution_count": 142,
   "metadata": {},
   "outputs": [
    {
     "data": {
      "text/plain": [
       "1"
      ]
     },
     "execution_count": 142,
     "metadata": {},
     "output_type": "execute_result"
    }
   ],
   "source": [
    "lst.index(2,0,6)"
   ]
  },
  {
   "cell_type": "code",
   "execution_count": 143,
   "metadata": {},
   "outputs": [],
   "source": [
    "alpha=list()"
   ]
  },
  {
   "cell_type": "code",
   "execution_count": 144,
   "metadata": {},
   "outputs": [],
   "source": [
    "alpha=[\"a\",\"a\",\"g\",\"k\",\"a\"]"
   ]
  },
  {
   "cell_type": "code",
   "execution_count": 145,
   "metadata": {},
   "outputs": [
    {
     "data": {
      "text/plain": [
       "3"
      ]
     },
     "execution_count": 145,
     "metadata": {},
     "output_type": "execute_result"
    }
   ],
   "source": [
    "alpha.count(\"a\")"
   ]
  },
  {
   "cell_type": "code",
   "execution_count": 146,
   "metadata": {},
   "outputs": [
    {
     "data": {
      "text/plain": [
       "4"
      ]
     },
     "execution_count": 146,
     "metadata": {},
     "output_type": "execute_result"
    }
   ],
   "source": [
    "alpha.index(\"a\",2,5)"
   ]
  },
  {
   "cell_type": "code",
   "execution_count": 147,
   "metadata": {},
   "outputs": [
    {
     "data": {
      "text/plain": [
       "2"
      ]
     },
     "execution_count": 147,
     "metadata": {},
     "output_type": "execute_result"
    }
   ],
   "source": [
    "## minimum number of list (smallest number in list)\n",
    "min(lst)"
   ]
  },
  {
   "cell_type": "code",
   "execution_count": 148,
   "metadata": {},
   "outputs": [
    {
     "data": {
      "text/plain": [
       "11"
      ]
     },
     "execution_count": 148,
     "metadata": {},
     "output_type": "execute_result"
    }
   ],
   "source": [
    "## maximum number in list\n",
    "max(lst)"
   ]
  },
  {
   "cell_type": "code",
   "execution_count": null,
   "metadata": {},
   "outputs": [],
   "source": []
  },
  {
   "cell_type": "markdown",
   "metadata": {},
   "source": [
    "## SET"
   ]
  },
  {
   "cell_type": "code",
   "execution_count": 149,
   "metadata": {},
   "outputs": [
    {
     "name": "stdout",
     "output_type": "stream",
     "text": [
      "<class 'set'>\n"
     ]
    }
   ],
   "source": [
    "set_var=set()\n",
    "type(set_var)\n",
    "print(type(set_var))"
   ]
  },
  {
   "cell_type": "code",
   "execution_count": 150,
   "metadata": {},
   "outputs": [],
   "source": [
    "set_var={'Avengers','Hitman','spiderman','Batman'}"
   ]
  },
  {
   "cell_type": "code",
   "execution_count": 151,
   "metadata": {},
   "outputs": [],
   "source": [
    "set_var.add('Hulk')"
   ]
  },
  {
   "cell_type": "code",
   "execution_count": 152,
   "metadata": {},
   "outputs": [
    {
     "data": {
      "text/plain": [
       "{'Avengers', 'Batman', 'Hitman', 'Hulk', 'spiderman'}"
      ]
     },
     "execution_count": 152,
     "metadata": {},
     "output_type": "execute_result"
    }
   ],
   "source": [
    "set_var"
   ]
  },
  {
   "cell_type": "code",
   "execution_count": 153,
   "metadata": {},
   "outputs": [],
   "source": [
    "set1={'Avengers', 'Batman', 'Hitman', 'Hulk', 'spiderman'}\n",
    "set2={'Avengers', 'Batman', 'Hitman', 'Hulk', 'spiderman','Thanos'}"
   ]
  },
  {
   "cell_type": "code",
   "execution_count": 154,
   "metadata": {},
   "outputs": [
    {
     "data": {
      "text/plain": [
       "{'Avengers', 'Batman', 'Hitman', 'Hulk', 'spiderman'}"
      ]
     },
     "execution_count": 154,
     "metadata": {},
     "output_type": "execute_result"
    }
   ],
   "source": [
    "set2.intersection(set1)"
   ]
  },
  {
   "cell_type": "code",
   "execution_count": 155,
   "metadata": {},
   "outputs": [
    {
     "name": "stdout",
     "output_type": "stream",
     "text": [
      "{'Hitman', 'Hulk', 'spiderman', 'Batman', 'Avengers', 'Thanos'}\n"
     ]
    }
   ],
   "source": [
    "print(set2)"
   ]
  },
  {
   "cell_type": "code",
   "execution_count": 156,
   "metadata": {},
   "outputs": [],
   "source": [
    "set2.intersection_update(set1)"
   ]
  },
  {
   "cell_type": "code",
   "execution_count": 157,
   "metadata": {},
   "outputs": [
    {
     "name": "stdout",
     "output_type": "stream",
     "text": [
      "{'Hitman', 'Hulk', 'spiderman', 'Batman', 'Avengers'}\n"
     ]
    }
   ],
   "source": [
    "print(set2)"
   ]
  },
  {
   "cell_type": "code",
   "execution_count": 158,
   "metadata": {},
   "outputs": [
    {
     "data": {
      "text/plain": [
       "set()"
      ]
     },
     "execution_count": 158,
     "metadata": {},
     "output_type": "execute_result"
    }
   ],
   "source": [
    "set2.difference(set1)"
   ]
  },
  {
   "cell_type": "code",
   "execution_count": 159,
   "metadata": {},
   "outputs": [
    {
     "name": "stdout",
     "output_type": "stream",
     "text": [
      "{'Hitman', 'Hulk', 'spiderman', 'Batman', 'Avengers'}\n"
     ]
    }
   ],
   "source": [
    "print(set2)"
   ]
  },
  {
   "cell_type": "code",
   "execution_count": 160,
   "metadata": {},
   "outputs": [],
   "source": [
    "set2.difference_update(set1)"
   ]
  },
  {
   "cell_type": "code",
   "execution_count": 161,
   "metadata": {},
   "outputs": [
    {
     "data": {
      "text/plain": [
       "set()"
      ]
     },
     "execution_count": 161,
     "metadata": {},
     "output_type": "execute_result"
    }
   ],
   "source": [
    "set2"
   ]
  },
  {
   "cell_type": "markdown",
   "metadata": {},
   "source": [
    "## Dictionary"
   ]
  },
  {
   "cell_type": "code",
   "execution_count": 162,
   "metadata": {},
   "outputs": [],
   "source": [
    "dic={}"
   ]
  },
  {
   "cell_type": "code",
   "execution_count": 163,
   "metadata": {},
   "outputs": [
    {
     "data": {
      "text/plain": [
       "dict"
      ]
     },
     "execution_count": 163,
     "metadata": {},
     "output_type": "execute_result"
    }
   ],
   "source": [
    "type(dic)"
   ]
  },
  {
   "cell_type": "code",
   "execution_count": 164,
   "metadata": {},
   "outputs": [],
   "source": [
    "my_dict={\"car1\":\"audi\" , \"car2\":\"BMW\", \"car3\":\"mercidies\"}"
   ]
  },
  {
   "cell_type": "code",
   "execution_count": 165,
   "metadata": {},
   "outputs": [
    {
     "data": {
      "text/plain": [
       "dict"
      ]
     },
     "execution_count": 165,
     "metadata": {},
     "output_type": "execute_result"
    }
   ],
   "source": [
    "type(my_dict)"
   ]
  },
  {
   "cell_type": "code",
   "execution_count": 166,
   "metadata": {},
   "outputs": [
    {
     "data": {
      "text/plain": [
       "'audi'"
      ]
     },
     "execution_count": 166,
     "metadata": {},
     "output_type": "execute_result"
    }
   ],
   "source": [
    "my_dict[\"car1\"]"
   ]
  },
  {
   "cell_type": "code",
   "execution_count": 167,
   "metadata": {},
   "outputs": [
    {
     "name": "stdout",
     "output_type": "stream",
     "text": [
      "car1\n",
      "car2\n",
      "car3\n"
     ]
    }
   ],
   "source": [
    "## for loop\n",
    "\n",
    "for x in my_dict:\n",
    "    print(x)"
   ]
  },
  {
   "cell_type": "code",
   "execution_count": 168,
   "metadata": {},
   "outputs": [
    {
     "name": "stdout",
     "output_type": "stream",
     "text": [
      "audi\n",
      "BMW\n",
      "mercidies\n"
     ]
    }
   ],
   "source": [
    "for x in my_dict.values():\n",
    "    print(x)"
   ]
  },
  {
   "cell_type": "code",
   "execution_count": 169,
   "metadata": {},
   "outputs": [
    {
     "name": "stdout",
     "output_type": "stream",
     "text": [
      "('car1', 'audi')\n",
      "('car2', 'BMW')\n",
      "('car3', 'mercidies')\n"
     ]
    }
   ],
   "source": [
    "for x in my_dict.items():\n",
    "    print(x)"
   ]
  },
  {
   "cell_type": "code",
   "execution_count": 170,
   "metadata": {},
   "outputs": [],
   "source": [
    "my_dict['car4']='audi2.0'"
   ]
  },
  {
   "cell_type": "code",
   "execution_count": 171,
   "metadata": {},
   "outputs": [
    {
     "data": {
      "text/plain": [
       "{'car1': 'audi', 'car2': 'BMW', 'car3': 'mercidies', 'car4': 'audi2.0'}"
      ]
     },
     "execution_count": 171,
     "metadata": {},
     "output_type": "execute_result"
    }
   ],
   "source": [
    "my_dict"
   ]
  },
  {
   "cell_type": "code",
   "execution_count": 172,
   "metadata": {},
   "outputs": [
    {
     "data": {
      "text/plain": [
       "{'car1': 'maruti', 'car2': 'BMW', 'car3': 'mercidies', 'car4': 'audi2.0'}"
      ]
     },
     "execution_count": 172,
     "metadata": {},
     "output_type": "execute_result"
    }
   ],
   "source": [
    "my_dict['car1']='maruti'\n",
    "my_dict"
   ]
  },
  {
   "cell_type": "markdown",
   "metadata": {},
   "source": [
    "## nested dictionaries"
   ]
  },
  {
   "cell_type": "code",
   "execution_count": 173,
   "metadata": {},
   "outputs": [
    {
     "name": "stdout",
     "output_type": "stream",
     "text": [
      "{'car1': {'mercedies': 1980}, 'car2': {'audi': 1990}, 'car3': {'BMW': 1985}}\n"
     ]
    }
   ],
   "source": [
    "car1_model={'mercedies':1980}\n",
    "car2_model={'audi':1990}\n",
    "car3_model={'BMW':1985}\n",
    "\n",
    "car_type={'car1':car1_model , 'car2':car2_model , 'car3':car3_model}\n",
    "\n",
    "print(car_type)"
   ]
  },
  {
   "cell_type": "code",
   "execution_count": 174,
   "metadata": {},
   "outputs": [
    {
     "name": "stdout",
     "output_type": "stream",
     "text": [
      "{'mercedies': 1980}\n"
     ]
    }
   ],
   "source": [
    "print(car_type['car1'])"
   ]
  },
  {
   "cell_type": "code",
   "execution_count": 175,
   "metadata": {},
   "outputs": [
    {
     "name": "stdout",
     "output_type": "stream",
     "text": [
      "1980\n"
     ]
    }
   ],
   "source": [
    "print(car_type['car1']['mercedies'])"
   ]
  },
  {
   "cell_type": "code",
   "execution_count": 176,
   "metadata": {},
   "outputs": [
    {
     "name": "stdout",
     "output_type": "stream",
     "text": [
      "{'BMW': 1985}\n"
     ]
    }
   ],
   "source": [
    "print(car_type['car3'])"
   ]
  },
  {
   "cell_type": "code",
   "execution_count": 177,
   "metadata": {},
   "outputs": [
    {
     "name": "stdout",
     "output_type": "stream",
     "text": [
      "1985\n"
     ]
    }
   ],
   "source": [
    "print(car_type['car3']['BMW'])"
   ]
  },
  {
   "cell_type": "markdown",
   "metadata": {},
   "source": [
    "## tuples"
   ]
  },
  {
   "cell_type": "code",
   "execution_count": 178,
   "metadata": {},
   "outputs": [
    {
     "data": {
      "text/plain": [
       "tuple"
      ]
     },
     "execution_count": 178,
     "metadata": {},
     "output_type": "execute_result"
    }
   ],
   "source": [
    "my_tuples=()\n",
    "type(my_tuples)"
   ]
  },
  {
   "cell_type": "code",
   "execution_count": 179,
   "metadata": {},
   "outputs": [],
   "source": [
    "my_tuples=('paris','mumbai','new york','london')"
   ]
  },
  {
   "cell_type": "code",
   "execution_count": 180,
   "metadata": {},
   "outputs": [],
   "source": [
    "my_tuples=my_tuples*200"
   ]
  },
  {
   "cell_type": "code",
   "execution_count": 181,
   "metadata": {},
   "outputs": [
    {
     "data": {
      "text/plain": [
       "('paris',\n",
       " 'mumbai',\n",
       " 'new york',\n",
       " 'london',\n",
       " 'paris',\n",
       " 'mumbai',\n",
       " 'new york',\n",
       " 'london',\n",
       " 'paris',\n",
       " 'mumbai',\n",
       " 'new york',\n",
       " 'london',\n",
       " 'paris',\n",
       " 'mumbai',\n",
       " 'new york',\n",
       " 'london',\n",
       " 'paris',\n",
       " 'mumbai',\n",
       " 'new york',\n",
       " 'london',\n",
       " 'paris',\n",
       " 'mumbai',\n",
       " 'new york',\n",
       " 'london',\n",
       " 'paris',\n",
       " 'mumbai',\n",
       " 'new york',\n",
       " 'london',\n",
       " 'paris',\n",
       " 'mumbai',\n",
       " 'new york',\n",
       " 'london',\n",
       " 'paris',\n",
       " 'mumbai',\n",
       " 'new york',\n",
       " 'london',\n",
       " 'paris',\n",
       " 'mumbai',\n",
       " 'new york',\n",
       " 'london',\n",
       " 'paris',\n",
       " 'mumbai',\n",
       " 'new york',\n",
       " 'london',\n",
       " 'paris',\n",
       " 'mumbai',\n",
       " 'new york',\n",
       " 'london',\n",
       " 'paris',\n",
       " 'mumbai',\n",
       " 'new york',\n",
       " 'london',\n",
       " 'paris',\n",
       " 'mumbai',\n",
       " 'new york',\n",
       " 'london',\n",
       " 'paris',\n",
       " 'mumbai',\n",
       " 'new york',\n",
       " 'london',\n",
       " 'paris',\n",
       " 'mumbai',\n",
       " 'new york',\n",
       " 'london',\n",
       " 'paris',\n",
       " 'mumbai',\n",
       " 'new york',\n",
       " 'london',\n",
       " 'paris',\n",
       " 'mumbai',\n",
       " 'new york',\n",
       " 'london',\n",
       " 'paris',\n",
       " 'mumbai',\n",
       " 'new york',\n",
       " 'london',\n",
       " 'paris',\n",
       " 'mumbai',\n",
       " 'new york',\n",
       " 'london',\n",
       " 'paris',\n",
       " 'mumbai',\n",
       " 'new york',\n",
       " 'london',\n",
       " 'paris',\n",
       " 'mumbai',\n",
       " 'new york',\n",
       " 'london',\n",
       " 'paris',\n",
       " 'mumbai',\n",
       " 'new york',\n",
       " 'london',\n",
       " 'paris',\n",
       " 'mumbai',\n",
       " 'new york',\n",
       " 'london',\n",
       " 'paris',\n",
       " 'mumbai',\n",
       " 'new york',\n",
       " 'london',\n",
       " 'paris',\n",
       " 'mumbai',\n",
       " 'new york',\n",
       " 'london',\n",
       " 'paris',\n",
       " 'mumbai',\n",
       " 'new york',\n",
       " 'london',\n",
       " 'paris',\n",
       " 'mumbai',\n",
       " 'new york',\n",
       " 'london',\n",
       " 'paris',\n",
       " 'mumbai',\n",
       " 'new york',\n",
       " 'london',\n",
       " 'paris',\n",
       " 'mumbai',\n",
       " 'new york',\n",
       " 'london',\n",
       " 'paris',\n",
       " 'mumbai',\n",
       " 'new york',\n",
       " 'london',\n",
       " 'paris',\n",
       " 'mumbai',\n",
       " 'new york',\n",
       " 'london',\n",
       " 'paris',\n",
       " 'mumbai',\n",
       " 'new york',\n",
       " 'london',\n",
       " 'paris',\n",
       " 'mumbai',\n",
       " 'new york',\n",
       " 'london',\n",
       " 'paris',\n",
       " 'mumbai',\n",
       " 'new york',\n",
       " 'london',\n",
       " 'paris',\n",
       " 'mumbai',\n",
       " 'new york',\n",
       " 'london',\n",
       " 'paris',\n",
       " 'mumbai',\n",
       " 'new york',\n",
       " 'london',\n",
       " 'paris',\n",
       " 'mumbai',\n",
       " 'new york',\n",
       " 'london',\n",
       " 'paris',\n",
       " 'mumbai',\n",
       " 'new york',\n",
       " 'london',\n",
       " 'paris',\n",
       " 'mumbai',\n",
       " 'new york',\n",
       " 'london',\n",
       " 'paris',\n",
       " 'mumbai',\n",
       " 'new york',\n",
       " 'london',\n",
       " 'paris',\n",
       " 'mumbai',\n",
       " 'new york',\n",
       " 'london',\n",
       " 'paris',\n",
       " 'mumbai',\n",
       " 'new york',\n",
       " 'london',\n",
       " 'paris',\n",
       " 'mumbai',\n",
       " 'new york',\n",
       " 'london',\n",
       " 'paris',\n",
       " 'mumbai',\n",
       " 'new york',\n",
       " 'london',\n",
       " 'paris',\n",
       " 'mumbai',\n",
       " 'new york',\n",
       " 'london',\n",
       " 'paris',\n",
       " 'mumbai',\n",
       " 'new york',\n",
       " 'london',\n",
       " 'paris',\n",
       " 'mumbai',\n",
       " 'new york',\n",
       " 'london',\n",
       " 'paris',\n",
       " 'mumbai',\n",
       " 'new york',\n",
       " 'london',\n",
       " 'paris',\n",
       " 'mumbai',\n",
       " 'new york',\n",
       " 'london',\n",
       " 'paris',\n",
       " 'mumbai',\n",
       " 'new york',\n",
       " 'london',\n",
       " 'paris',\n",
       " 'mumbai',\n",
       " 'new york',\n",
       " 'london',\n",
       " 'paris',\n",
       " 'mumbai',\n",
       " 'new york',\n",
       " 'london',\n",
       " 'paris',\n",
       " 'mumbai',\n",
       " 'new york',\n",
       " 'london',\n",
       " 'paris',\n",
       " 'mumbai',\n",
       " 'new york',\n",
       " 'london',\n",
       " 'paris',\n",
       " 'mumbai',\n",
       " 'new york',\n",
       " 'london',\n",
       " 'paris',\n",
       " 'mumbai',\n",
       " 'new york',\n",
       " 'london',\n",
       " 'paris',\n",
       " 'mumbai',\n",
       " 'new york',\n",
       " 'london',\n",
       " 'paris',\n",
       " 'mumbai',\n",
       " 'new york',\n",
       " 'london',\n",
       " 'paris',\n",
       " 'mumbai',\n",
       " 'new york',\n",
       " 'london',\n",
       " 'paris',\n",
       " 'mumbai',\n",
       " 'new york',\n",
       " 'london',\n",
       " 'paris',\n",
       " 'mumbai',\n",
       " 'new york',\n",
       " 'london',\n",
       " 'paris',\n",
       " 'mumbai',\n",
       " 'new york',\n",
       " 'london',\n",
       " 'paris',\n",
       " 'mumbai',\n",
       " 'new york',\n",
       " 'london',\n",
       " 'paris',\n",
       " 'mumbai',\n",
       " 'new york',\n",
       " 'london',\n",
       " 'paris',\n",
       " 'mumbai',\n",
       " 'new york',\n",
       " 'london',\n",
       " 'paris',\n",
       " 'mumbai',\n",
       " 'new york',\n",
       " 'london',\n",
       " 'paris',\n",
       " 'mumbai',\n",
       " 'new york',\n",
       " 'london',\n",
       " 'paris',\n",
       " 'mumbai',\n",
       " 'new york',\n",
       " 'london',\n",
       " 'paris',\n",
       " 'mumbai',\n",
       " 'new york',\n",
       " 'london',\n",
       " 'paris',\n",
       " 'mumbai',\n",
       " 'new york',\n",
       " 'london',\n",
       " 'paris',\n",
       " 'mumbai',\n",
       " 'new york',\n",
       " 'london',\n",
       " 'paris',\n",
       " 'mumbai',\n",
       " 'new york',\n",
       " 'london',\n",
       " 'paris',\n",
       " 'mumbai',\n",
       " 'new york',\n",
       " 'london',\n",
       " 'paris',\n",
       " 'mumbai',\n",
       " 'new york',\n",
       " 'london',\n",
       " 'paris',\n",
       " 'mumbai',\n",
       " 'new york',\n",
       " 'london',\n",
       " 'paris',\n",
       " 'mumbai',\n",
       " 'new york',\n",
       " 'london',\n",
       " 'paris',\n",
       " 'mumbai',\n",
       " 'new york',\n",
       " 'london',\n",
       " 'paris',\n",
       " 'mumbai',\n",
       " 'new york',\n",
       " 'london',\n",
       " 'paris',\n",
       " 'mumbai',\n",
       " 'new york',\n",
       " 'london',\n",
       " 'paris',\n",
       " 'mumbai',\n",
       " 'new york',\n",
       " 'london',\n",
       " 'paris',\n",
       " 'mumbai',\n",
       " 'new york',\n",
       " 'london',\n",
       " 'paris',\n",
       " 'mumbai',\n",
       " 'new york',\n",
       " 'london',\n",
       " 'paris',\n",
       " 'mumbai',\n",
       " 'new york',\n",
       " 'london',\n",
       " 'paris',\n",
       " 'mumbai',\n",
       " 'new york',\n",
       " 'london',\n",
       " 'paris',\n",
       " 'mumbai',\n",
       " 'new york',\n",
       " 'london',\n",
       " 'paris',\n",
       " 'mumbai',\n",
       " 'new york',\n",
       " 'london',\n",
       " 'paris',\n",
       " 'mumbai',\n",
       " 'new york',\n",
       " 'london',\n",
       " 'paris',\n",
       " 'mumbai',\n",
       " 'new york',\n",
       " 'london',\n",
       " 'paris',\n",
       " 'mumbai',\n",
       " 'new york',\n",
       " 'london',\n",
       " 'paris',\n",
       " 'mumbai',\n",
       " 'new york',\n",
       " 'london',\n",
       " 'paris',\n",
       " 'mumbai',\n",
       " 'new york',\n",
       " 'london',\n",
       " 'paris',\n",
       " 'mumbai',\n",
       " 'new york',\n",
       " 'london',\n",
       " 'paris',\n",
       " 'mumbai',\n",
       " 'new york',\n",
       " 'london',\n",
       " 'paris',\n",
       " 'mumbai',\n",
       " 'new york',\n",
       " 'london',\n",
       " 'paris',\n",
       " 'mumbai',\n",
       " 'new york',\n",
       " 'london',\n",
       " 'paris',\n",
       " 'mumbai',\n",
       " 'new york',\n",
       " 'london',\n",
       " 'paris',\n",
       " 'mumbai',\n",
       " 'new york',\n",
       " 'london',\n",
       " 'paris',\n",
       " 'mumbai',\n",
       " 'new york',\n",
       " 'london',\n",
       " 'paris',\n",
       " 'mumbai',\n",
       " 'new york',\n",
       " 'london',\n",
       " 'paris',\n",
       " 'mumbai',\n",
       " 'new york',\n",
       " 'london',\n",
       " 'paris',\n",
       " 'mumbai',\n",
       " 'new york',\n",
       " 'london',\n",
       " 'paris',\n",
       " 'mumbai',\n",
       " 'new york',\n",
       " 'london',\n",
       " 'paris',\n",
       " 'mumbai',\n",
       " 'new york',\n",
       " 'london',\n",
       " 'paris',\n",
       " 'mumbai',\n",
       " 'new york',\n",
       " 'london',\n",
       " 'paris',\n",
       " 'mumbai',\n",
       " 'new york',\n",
       " 'london',\n",
       " 'paris',\n",
       " 'mumbai',\n",
       " 'new york',\n",
       " 'london',\n",
       " 'paris',\n",
       " 'mumbai',\n",
       " 'new york',\n",
       " 'london',\n",
       " 'paris',\n",
       " 'mumbai',\n",
       " 'new york',\n",
       " 'london',\n",
       " 'paris',\n",
       " 'mumbai',\n",
       " 'new york',\n",
       " 'london',\n",
       " 'paris',\n",
       " 'mumbai',\n",
       " 'new york',\n",
       " 'london',\n",
       " 'paris',\n",
       " 'mumbai',\n",
       " 'new york',\n",
       " 'london',\n",
       " 'paris',\n",
       " 'mumbai',\n",
       " 'new york',\n",
       " 'london',\n",
       " 'paris',\n",
       " 'mumbai',\n",
       " 'new york',\n",
       " 'london',\n",
       " 'paris',\n",
       " 'mumbai',\n",
       " 'new york',\n",
       " 'london',\n",
       " 'paris',\n",
       " 'mumbai',\n",
       " 'new york',\n",
       " 'london',\n",
       " 'paris',\n",
       " 'mumbai',\n",
       " 'new york',\n",
       " 'london',\n",
       " 'paris',\n",
       " 'mumbai',\n",
       " 'new york',\n",
       " 'london',\n",
       " 'paris',\n",
       " 'mumbai',\n",
       " 'new york',\n",
       " 'london',\n",
       " 'paris',\n",
       " 'mumbai',\n",
       " 'new york',\n",
       " 'london',\n",
       " 'paris',\n",
       " 'mumbai',\n",
       " 'new york',\n",
       " 'london',\n",
       " 'paris',\n",
       " 'mumbai',\n",
       " 'new york',\n",
       " 'london',\n",
       " 'paris',\n",
       " 'mumbai',\n",
       " 'new york',\n",
       " 'london',\n",
       " 'paris',\n",
       " 'mumbai',\n",
       " 'new york',\n",
       " 'london',\n",
       " 'paris',\n",
       " 'mumbai',\n",
       " 'new york',\n",
       " 'london',\n",
       " 'paris',\n",
       " 'mumbai',\n",
       " 'new york',\n",
       " 'london',\n",
       " 'paris',\n",
       " 'mumbai',\n",
       " 'new york',\n",
       " 'london',\n",
       " 'paris',\n",
       " 'mumbai',\n",
       " 'new york',\n",
       " 'london',\n",
       " 'paris',\n",
       " 'mumbai',\n",
       " 'new york',\n",
       " 'london',\n",
       " 'paris',\n",
       " 'mumbai',\n",
       " 'new york',\n",
       " 'london',\n",
       " 'paris',\n",
       " 'mumbai',\n",
       " 'new york',\n",
       " 'london',\n",
       " 'paris',\n",
       " 'mumbai',\n",
       " 'new york',\n",
       " 'london',\n",
       " 'paris',\n",
       " 'mumbai',\n",
       " 'new york',\n",
       " 'london',\n",
       " 'paris',\n",
       " 'mumbai',\n",
       " 'new york',\n",
       " 'london',\n",
       " 'paris',\n",
       " 'mumbai',\n",
       " 'new york',\n",
       " 'london',\n",
       " 'paris',\n",
       " 'mumbai',\n",
       " 'new york',\n",
       " 'london',\n",
       " 'paris',\n",
       " 'mumbai',\n",
       " 'new york',\n",
       " 'london',\n",
       " 'paris',\n",
       " 'mumbai',\n",
       " 'new york',\n",
       " 'london',\n",
       " 'paris',\n",
       " 'mumbai',\n",
       " 'new york',\n",
       " 'london',\n",
       " 'paris',\n",
       " 'mumbai',\n",
       " 'new york',\n",
       " 'london',\n",
       " 'paris',\n",
       " 'mumbai',\n",
       " 'new york',\n",
       " 'london',\n",
       " 'paris',\n",
       " 'mumbai',\n",
       " 'new york',\n",
       " 'london',\n",
       " 'paris',\n",
       " 'mumbai',\n",
       " 'new york',\n",
       " 'london',\n",
       " 'paris',\n",
       " 'mumbai',\n",
       " 'new york',\n",
       " 'london',\n",
       " 'paris',\n",
       " 'mumbai',\n",
       " 'new york',\n",
       " 'london',\n",
       " 'paris',\n",
       " 'mumbai',\n",
       " 'new york',\n",
       " 'london',\n",
       " 'paris',\n",
       " 'mumbai',\n",
       " 'new york',\n",
       " 'london',\n",
       " 'paris',\n",
       " 'mumbai',\n",
       " 'new york',\n",
       " 'london',\n",
       " 'paris',\n",
       " 'mumbai',\n",
       " 'new york',\n",
       " 'london',\n",
       " 'paris',\n",
       " 'mumbai',\n",
       " 'new york',\n",
       " 'london',\n",
       " 'paris',\n",
       " 'mumbai',\n",
       " 'new york',\n",
       " 'london',\n",
       " 'paris',\n",
       " 'mumbai',\n",
       " 'new york',\n",
       " 'london',\n",
       " 'paris',\n",
       " 'mumbai',\n",
       " 'new york',\n",
       " 'london',\n",
       " 'paris',\n",
       " 'mumbai',\n",
       " 'new york',\n",
       " 'london',\n",
       " 'paris',\n",
       " 'mumbai',\n",
       " 'new york',\n",
       " 'london',\n",
       " 'paris',\n",
       " 'mumbai',\n",
       " 'new york',\n",
       " 'london',\n",
       " 'paris',\n",
       " 'mumbai',\n",
       " 'new york',\n",
       " 'london',\n",
       " 'paris',\n",
       " 'mumbai',\n",
       " 'new york',\n",
       " 'london',\n",
       " 'paris',\n",
       " 'mumbai',\n",
       " 'new york',\n",
       " 'london',\n",
       " 'paris',\n",
       " 'mumbai',\n",
       " 'new york',\n",
       " 'london',\n",
       " 'paris',\n",
       " 'mumbai',\n",
       " 'new york',\n",
       " 'london',\n",
       " 'paris',\n",
       " 'mumbai',\n",
       " 'new york',\n",
       " 'london',\n",
       " 'paris',\n",
       " 'mumbai',\n",
       " 'new york',\n",
       " 'london',\n",
       " 'paris',\n",
       " 'mumbai',\n",
       " 'new york',\n",
       " 'london',\n",
       " 'paris',\n",
       " 'mumbai',\n",
       " 'new york',\n",
       " 'london',\n",
       " 'paris',\n",
       " 'mumbai',\n",
       " 'new york',\n",
       " 'london',\n",
       " 'paris',\n",
       " 'mumbai',\n",
       " 'new york',\n",
       " 'london',\n",
       " 'paris',\n",
       " 'mumbai',\n",
       " 'new york',\n",
       " 'london',\n",
       " 'paris',\n",
       " 'mumbai',\n",
       " 'new york',\n",
       " 'london',\n",
       " 'paris',\n",
       " 'mumbai',\n",
       " 'new york',\n",
       " 'london',\n",
       " 'paris',\n",
       " 'mumbai',\n",
       " 'new york',\n",
       " 'london',\n",
       " 'paris',\n",
       " 'mumbai',\n",
       " 'new york',\n",
       " 'london',\n",
       " 'paris',\n",
       " 'mumbai',\n",
       " 'new york',\n",
       " 'london',\n",
       " 'paris',\n",
       " 'mumbai',\n",
       " 'new york',\n",
       " 'london',\n",
       " 'paris',\n",
       " 'mumbai',\n",
       " 'new york',\n",
       " 'london',\n",
       " 'paris',\n",
       " 'mumbai',\n",
       " 'new york',\n",
       " 'london',\n",
       " 'paris',\n",
       " 'mumbai',\n",
       " 'new york',\n",
       " 'london',\n",
       " 'paris',\n",
       " 'mumbai',\n",
       " 'new york',\n",
       " 'london',\n",
       " 'paris',\n",
       " 'mumbai',\n",
       " 'new york',\n",
       " 'london',\n",
       " 'paris',\n",
       " 'mumbai',\n",
       " 'new york',\n",
       " 'london',\n",
       " 'paris',\n",
       " 'mumbai',\n",
       " 'new york',\n",
       " 'london',\n",
       " 'paris',\n",
       " 'mumbai',\n",
       " 'new york',\n",
       " 'london',\n",
       " 'paris',\n",
       " 'mumbai',\n",
       " 'new york',\n",
       " 'london',\n",
       " 'paris',\n",
       " 'mumbai',\n",
       " 'new york',\n",
       " 'london',\n",
       " 'paris',\n",
       " 'mumbai',\n",
       " 'new york',\n",
       " 'london',\n",
       " 'paris',\n",
       " 'mumbai',\n",
       " 'new york',\n",
       " 'london',\n",
       " 'paris',\n",
       " 'mumbai',\n",
       " 'new york',\n",
       " 'london',\n",
       " 'paris',\n",
       " 'mumbai',\n",
       " 'new york',\n",
       " 'london',\n",
       " 'paris',\n",
       " 'mumbai',\n",
       " 'new york',\n",
       " 'london',\n",
       " 'paris',\n",
       " 'mumbai',\n",
       " 'new york',\n",
       " 'london',\n",
       " 'paris',\n",
       " 'mumbai',\n",
       " 'new york',\n",
       " 'london',\n",
       " 'paris',\n",
       " 'mumbai',\n",
       " 'new york',\n",
       " 'london',\n",
       " 'paris',\n",
       " 'mumbai',\n",
       " 'new york',\n",
       " 'london',\n",
       " 'paris',\n",
       " 'mumbai',\n",
       " 'new york',\n",
       " 'london',\n",
       " 'paris',\n",
       " 'mumbai',\n",
       " 'new york',\n",
       " 'london',\n",
       " 'paris',\n",
       " 'mumbai',\n",
       " 'new york',\n",
       " 'london',\n",
       " 'paris',\n",
       " 'mumbai',\n",
       " 'new york',\n",
       " 'london',\n",
       " 'paris',\n",
       " 'mumbai',\n",
       " 'new york',\n",
       " 'london',\n",
       " 'paris',\n",
       " 'mumbai',\n",
       " 'new york',\n",
       " 'london',\n",
       " 'paris',\n",
       " 'mumbai',\n",
       " 'new york',\n",
       " 'london')"
      ]
     },
     "execution_count": 181,
     "metadata": {},
     "output_type": "execute_result"
    }
   ],
   "source": [
    "my_tuples"
   ]
  },
  {
   "cell_type": "code",
   "execution_count": 182,
   "metadata": {},
   "outputs": [
    {
     "data": {
      "text/plain": [
       "200"
      ]
     },
     "execution_count": 182,
     "metadata": {},
     "output_type": "execute_result"
    }
   ],
   "source": [
    "my_tuples.count('paris')"
   ]
  },
  {
   "cell_type": "code",
   "execution_count": 183,
   "metadata": {},
   "outputs": [
    {
     "data": {
      "text/plain": [
       "0"
      ]
     },
     "execution_count": 183,
     "metadata": {},
     "output_type": "execute_result"
    }
   ],
   "source": [
    "my_tuples.index('paris')"
   ]
  },
  {
   "cell_type": "markdown",
   "metadata": {},
   "source": [
    "## numpy"
   ]
  },
  {
   "cell_type": "code",
   "execution_count": null,
   "metadata": {},
   "outputs": [],
   "source": []
  },
  {
   "cell_type": "code",
   "execution_count": 184,
   "metadata": {},
   "outputs": [],
   "source": [
    "import numpy as np"
   ]
  },
  {
   "cell_type": "code",
   "execution_count": 185,
   "metadata": {},
   "outputs": [],
   "source": [
    "roll_number=[1,2,3,4,5]"
   ]
  },
  {
   "cell_type": "code",
   "execution_count": 186,
   "metadata": {},
   "outputs": [],
   "source": [
    "arr=np.array(roll_number)"
   ]
  },
  {
   "cell_type": "code",
   "execution_count": 187,
   "metadata": {},
   "outputs": [
    {
     "data": {
      "text/plain": [
       "numpy.ndarray"
      ]
     },
     "execution_count": 187,
     "metadata": {},
     "output_type": "execute_result"
    }
   ],
   "source": [
    "type(arr)"
   ]
  },
  {
   "cell_type": "code",
   "execution_count": 188,
   "metadata": {},
   "outputs": [
    {
     "name": "stdout",
     "output_type": "stream",
     "text": [
      "[1 2 3 4 5]\n"
     ]
    }
   ],
   "source": [
    "print(arr)"
   ]
  },
  {
   "cell_type": "code",
   "execution_count": 189,
   "metadata": {},
   "outputs": [
    {
     "data": {
      "text/plain": [
       "(5,)"
      ]
     },
     "execution_count": 189,
     "metadata": {},
     "output_type": "execute_result"
    }
   ],
   "source": [
    "arr.shape"
   ]
  },
  {
   "cell_type": "code",
   "execution_count": 203,
   "metadata": {},
   "outputs": [],
   "source": [
    "ro_num_a=[1,2,4,5,7,8]\n",
    "ro_num_b=[3,1,5,2,2,4]\n",
    "ro_num_c=[9,0,6,4,3,2]"
   ]
  },
  {
   "cell_type": "code",
   "execution_count": 204,
   "metadata": {},
   "outputs": [],
   "source": [
    "arr=np.array([ro_num_a,ro_num_b,ro_num_c])"
   ]
  },
  {
   "cell_type": "code",
   "execution_count": 205,
   "metadata": {},
   "outputs": [
    {
     "data": {
      "text/plain": [
       "array([[1, 2, 4, 5, 7, 8],\n",
       "       [3, 1, 5, 2, 2, 4],\n",
       "       [9, 0, 6, 4, 3, 2]])"
      ]
     },
     "execution_count": 205,
     "metadata": {},
     "output_type": "execute_result"
    }
   ],
   "source": [
    "arr"
   ]
  },
  {
   "cell_type": "code",
   "execution_count": null,
   "metadata": {},
   "outputs": [],
   "source": []
  },
  {
   "cell_type": "code",
   "execution_count": 193,
   "metadata": {},
   "outputs": [
    {
     "data": {
      "text/plain": [
       "(3, 6)"
      ]
     },
     "execution_count": 193,
     "metadata": {},
     "output_type": "execute_result"
    }
   ],
   "source": [
    "arr.shape"
   ]
  },
  {
   "cell_type": "code",
   "execution_count": 194,
   "metadata": {},
   "outputs": [
    {
     "data": {
      "text/plain": [
       "array([[1, 2, 4, 5, 7, 8, 3, 1, 5],\n",
       "       [2, 2, 4, 9, 0, 6, 4, 3, 2]])"
      ]
     },
     "execution_count": 194,
     "metadata": {},
     "output_type": "execute_result"
    }
   ],
   "source": [
    "arr.reshape(2,9)"
   ]
  },
  {
   "cell_type": "code",
   "execution_count": 195,
   "metadata": {},
   "outputs": [],
   "source": [
    "arr=([1, 2, 4, 5, 7, 8, 3, 1, 5])"
   ]
  },
  {
   "cell_type": "code",
   "execution_count": 196,
   "metadata": {},
   "outputs": [
    {
     "data": {
      "text/plain": [
       "7"
      ]
     },
     "execution_count": 196,
     "metadata": {},
     "output_type": "execute_result"
    }
   ],
   "source": [
    "arr[4]"
   ]
  },
  {
   "cell_type": "code",
   "execution_count": 206,
   "metadata": {},
   "outputs": [
    {
     "data": {
      "text/plain": [
       "array([[1, 2, 4, 5, 7, 8],\n",
       "       [3, 1, 5, 2, 2, 4],\n",
       "       [9, 0, 6, 4, 3, 2]])"
      ]
     },
     "execution_count": 206,
     "metadata": {},
     "output_type": "execute_result"
    }
   ],
   "source": [
    "arr"
   ]
  },
  {
   "cell_type": "code",
   "execution_count": null,
   "metadata": {},
   "outputs": [],
   "source": []
  },
  {
   "cell_type": "code",
   "execution_count": null,
   "metadata": {},
   "outputs": [],
   "source": []
  },
  {
   "cell_type": "code",
   "execution_count": 208,
   "metadata": {},
   "outputs": [
    {
     "data": {
      "text/plain": [
       "array([[5, 2],\n",
       "       [6, 4]])"
      ]
     },
     "execution_count": 208,
     "metadata": {},
     "output_type": "execute_result"
    }
   ],
   "source": [
    "arr[1:,2:4]"
   ]
  },
  {
   "cell_type": "code",
   "execution_count": 209,
   "metadata": {},
   "outputs": [
    {
     "data": {
      "text/plain": [
       "array([[0]])"
      ]
     },
     "execution_count": 209,
     "metadata": {},
     "output_type": "execute_result"
    }
   ],
   "source": [
    "arr[2:,1:2]"
   ]
  },
  {
   "cell_type": "code",
   "execution_count": 222,
   "metadata": {},
   "outputs": [],
   "source": [
    "arr=np.arange(0,10,step=2)"
   ]
  },
  {
   "cell_type": "code",
   "execution_count": 223,
   "metadata": {},
   "outputs": [
    {
     "data": {
      "text/plain": [
       "array([0, 2, 4, 6, 8])"
      ]
     },
     "execution_count": 223,
     "metadata": {},
     "output_type": "execute_result"
    }
   ],
   "source": [
    "arr"
   ]
  },
  {
   "cell_type": "code",
   "execution_count": 224,
   "metadata": {},
   "outputs": [
    {
     "data": {
      "text/plain": [
       "array([1.  , 1.75, 2.5 , 3.25, 4.  ])"
      ]
     },
     "execution_count": 224,
     "metadata": {},
     "output_type": "execute_result"
    }
   ],
   "source": [
    "np.linspace(1,4,num=5)"
   ]
  },
  {
   "cell_type": "code",
   "execution_count": 225,
   "metadata": {},
   "outputs": [
    {
     "data": {
      "text/plain": [
       "array([0, 2, 4, 6, 8])"
      ]
     },
     "execution_count": 225,
     "metadata": {},
     "output_type": "execute_result"
    }
   ],
   "source": [
    "arr"
   ]
  },
  {
   "cell_type": "code",
   "execution_count": 226,
   "metadata": {},
   "outputs": [],
   "source": [
    "## After copy it will locate diffrent memory location to different array.\n",
    "arr1=arr.copy()"
   ]
  },
  {
   "cell_type": "code",
   "execution_count": 227,
   "metadata": {},
   "outputs": [
    {
     "name": "stdout",
     "output_type": "stream",
     "text": [
      "[0 2 4 6 8]\n"
     ]
    }
   ],
   "source": [
    "print(arr1)"
   ]
  },
  {
   "cell_type": "code",
   "execution_count": 231,
   "metadata": {},
   "outputs": [],
   "source": [
    "arr1[2:4]=100"
   ]
  },
  {
   "cell_type": "code",
   "execution_count": 232,
   "metadata": {},
   "outputs": [
    {
     "name": "stdout",
     "output_type": "stream",
     "text": [
      "[  0   2 100 100   8]\n"
     ]
    }
   ],
   "source": [
    "print(arr1)"
   ]
  },
  {
   "cell_type": "code",
   "execution_count": 233,
   "metadata": {},
   "outputs": [
    {
     "name": "stdout",
     "output_type": "stream",
     "text": [
      "[0 2 4 6 8]\n"
     ]
    }
   ],
   "source": [
    "print(arr)"
   ]
  },
  {
   "cell_type": "code",
   "execution_count": 234,
   "metadata": {},
   "outputs": [],
   "source": [
    "arr2=arr.copy()"
   ]
  },
  {
   "cell_type": "code",
   "execution_count": 235,
   "metadata": {},
   "outputs": [
    {
     "name": "stdout",
     "output_type": "stream",
     "text": [
      "[0 2 4 6 8]\n"
     ]
    }
   ],
   "source": [
    "print(arr2)"
   ]
  },
  {
   "cell_type": "code",
   "execution_count": 238,
   "metadata": {},
   "outputs": [],
   "source": [
    "arr2[3:]=100"
   ]
  },
  {
   "cell_type": "code",
   "execution_count": 239,
   "metadata": {},
   "outputs": [
    {
     "name": "stdout",
     "output_type": "stream",
     "text": [
      "[  0   2   4 100 100]\n"
     ]
    }
   ],
   "source": [
    "print(arr2)"
   ]
  },
  {
   "cell_type": "code",
   "execution_count": 240,
   "metadata": {},
   "outputs": [
    {
     "name": "stdout",
     "output_type": "stream",
     "text": [
      "[0 2 4 6 8]\n"
     ]
    }
   ],
   "source": [
    "print(arr)"
   ]
  },
  {
   "cell_type": "code",
   "execution_count": null,
   "metadata": {},
   "outputs": [],
   "source": []
  },
  {
   "cell_type": "code",
   "execution_count": 50,
   "metadata": {},
   "outputs": [],
   "source": [
    "import numpy as np"
   ]
  },
  {
   "cell_type": "code",
   "execution_count": 51,
   "metadata": {},
   "outputs": [],
   "source": [
    "vitry=[1,2,4,5,7,8]\n",
    "creteil=[3,1,5,2,2,4]\n",
    "val_de_marne=[9,0,6,4,3,2]\n",
    "VDM=np.array([vitry,creteil,val_de_marne])"
   ]
  },
  {
   "cell_type": "code",
   "execution_count": 52,
   "metadata": {},
   "outputs": [
    {
     "name": "stdout",
     "output_type": "stream",
     "text": [
      "[[1 2 4 5 7 8]\n",
      " [3 1 5 2 2 4]\n",
      " [9 0 6 4 3 2]]\n"
     ]
    }
   ],
   "source": [
    "print(VDM)"
   ]
  },
  {
   "cell_type": "code",
   "execution_count": 53,
   "metadata": {},
   "outputs": [
    {
     "data": {
      "text/plain": [
       "array([1, 2, 3, 1, 2, 2, 0, 3, 2])"
      ]
     },
     "execution_count": 53,
     "metadata": {},
     "output_type": "execute_result"
    }
   ],
   "source": [
    "VDM[VDM<4]"
   ]
  },
  {
   "cell_type": "code",
   "execution_count": 54,
   "metadata": {},
   "outputs": [
    {
     "data": {
      "text/plain": [
       "(3, 6)"
      ]
     },
     "execution_count": 54,
     "metadata": {},
     "output_type": "execute_result"
    }
   ],
   "source": [
    "VDM.shape"
   ]
  },
  {
   "cell_type": "code",
   "execution_count": 55,
   "metadata": {},
   "outputs": [
    {
     "data": {
      "text/plain": [
       "array([[1, 2],\n",
       "       [4, 5],\n",
       "       [7, 8],\n",
       "       [3, 1],\n",
       "       [5, 2],\n",
       "       [2, 4],\n",
       "       [9, 0],\n",
       "       [6, 4],\n",
       "       [3, 2]])"
      ]
     },
     "execution_count": 55,
     "metadata": {},
     "output_type": "execute_result"
    }
   ],
   "source": [
    "VDM.reshape(9,2)"
   ]
  },
  {
   "cell_type": "code",
   "execution_count": 56,
   "metadata": {},
   "outputs": [
    {
     "data": {
      "text/plain": [
       "numpy.ndarray"
      ]
     },
     "execution_count": 56,
     "metadata": {},
     "output_type": "execute_result"
    }
   ],
   "source": [
    "type(VDM)"
   ]
  },
  {
   "cell_type": "code",
   "execution_count": 57,
   "metadata": {},
   "outputs": [
    {
     "data": {
      "text/plain": [
       "array([[ 2,  4,  8, 10, 14, 16],\n",
       "       [ 6,  2, 10,  4,  4,  8],\n",
       "       [18,  0, 12,  8,  6,  4]])"
      ]
     },
     "execution_count": 57,
     "metadata": {},
     "output_type": "execute_result"
    }
   ],
   "source": [
    "VDM*2"
   ]
  },
  {
   "cell_type": "code",
   "execution_count": 58,
   "metadata": {},
   "outputs": [
    {
     "data": {
      "text/plain": [
       "array([[False, False,  True,  True,  True,  True],\n",
       "       [False, False,  True, False, False,  True],\n",
       "       [ True, False,  True,  True, False, False]])"
      ]
     },
     "execution_count": 58,
     "metadata": {},
     "output_type": "execute_result"
    }
   ],
   "source": [
    "VDM>3"
   ]
  },
  {
   "cell_type": "code",
   "execution_count": 59,
   "metadata": {},
   "outputs": [
    {
     "data": {
      "text/plain": [
       "array([[0.5, 1. , 2. , 2.5, 3.5, 4. ],\n",
       "       [1.5, 0.5, 2.5, 1. , 1. , 2. ],\n",
       "       [4.5, 0. , 3. , 2. , 1.5, 1. ]])"
      ]
     },
     "execution_count": 59,
     "metadata": {},
     "output_type": "execute_result"
    }
   ],
   "source": [
    "VDM/2"
   ]
  },
  {
   "cell_type": "code",
   "execution_count": 60,
   "metadata": {},
   "outputs": [
    {
     "data": {
      "text/plain": [
       "array([[1, 0, 0, 1, 1, 0],\n",
       "       [1, 1, 1, 0, 0, 0],\n",
       "       [1, 0, 0, 0, 1, 0]], dtype=int32)"
      ]
     },
     "execution_count": 60,
     "metadata": {},
     "output_type": "execute_result"
    }
   ],
   "source": [
    "VDM%2"
   ]
  },
  {
   "cell_type": "code",
   "execution_count": 61,
   "metadata": {},
   "outputs": [
    {
     "data": {
      "text/plain": [
       "array([[1., 1.],\n",
       "       [1., 1.],\n",
       "       [1., 1.],\n",
       "       [1., 1.]])"
      ]
     },
     "execution_count": 61,
     "metadata": {},
     "output_type": "execute_result"
    }
   ],
   "source": [
    "np.ones((4,2),dtype=float)"
   ]
  },
  {
   "cell_type": "code",
   "execution_count": 62,
   "metadata": {},
   "outputs": [
    {
     "data": {
      "text/plain": [
       "array([[1, 1],\n",
       "       [1, 1],\n",
       "       [1, 1],\n",
       "       [1, 1]])"
      ]
     },
     "execution_count": 62,
     "metadata": {},
     "output_type": "execute_result"
    }
   ],
   "source": [
    "np.ones((4,2),dtype=int)"
   ]
  },
  {
   "cell_type": "code",
   "execution_count": 71,
   "metadata": {},
   "outputs": [],
   "source": [
    "vdm_ex=np.random.rand()"
   ]
  },
  {
   "cell_type": "code",
   "execution_count": 72,
   "metadata": {},
   "outputs": [
    {
     "data": {
      "text/plain": [
       "0.08969820793134153"
      ]
     },
     "execution_count": 72,
     "metadata": {},
     "output_type": "execute_result"
    }
   ],
   "source": [
    "vdm_ex"
   ]
  },
  {
   "cell_type": "code",
   "execution_count": 65,
   "metadata": {},
   "outputs": [
    {
     "data": {
      "text/plain": [
       "numpy.ndarray"
      ]
     },
     "execution_count": 65,
     "metadata": {},
     "output_type": "execute_result"
    }
   ],
   "source": [
    "type(vdm_ex)"
   ]
  },
  {
   "cell_type": "code",
   "execution_count": 74,
   "metadata": {},
   "outputs": [
    {
     "data": {
      "text/plain": [
       "array([[-0.84047197,  0.76985809,  0.83420352,  0.06036941],\n",
       "       [-0.59662551,  0.14697918, -0.29063145, -0.82392822],\n",
       "       [ 0.52204553, -0.10224773,  0.70185491,  1.21873289],\n",
       "       [-0.63008502,  1.01184202, -0.32534902,  1.88660214]])"
      ]
     },
     "execution_count": 74,
     "metadata": {},
     "output_type": "execute_result"
    }
   ],
   "source": [
    "np.random.randn(4,4)\n",
    "## dont know standard normal distributution see a video"
   ]
  },
  {
   "cell_type": "code",
   "execution_count": 78,
   "metadata": {},
   "outputs": [
    {
     "data": {
      "text/plain": [
       "array([[175,  76, 156,  29,  42],\n",
       "       [122, 149, 117,  48,  99],\n",
       "       [ 28, 109, 164, 190,  50]])"
      ]
     },
     "execution_count": 78,
     "metadata": {},
     "output_type": "execute_result"
    }
   ],
   "source": [
    "np.random.randint(20,200,15).reshape(3,5)"
   ]
  },
  {
   "cell_type": "code",
   "execution_count": 80,
   "metadata": {},
   "outputs": [
    {
     "data": {
      "text/plain": [
       "array([[0.70272627, 0.31710753, 0.53623945, 0.96256371, 0.98791537],\n",
       "       [0.62104624, 0.97464893, 0.79305762, 0.09850962, 0.12023447]])"
      ]
     },
     "execution_count": 80,
     "metadata": {},
     "output_type": "execute_result"
    }
   ],
   "source": [
    "np.random.random_sample((2,5))"
   ]
  }
 ],
 "metadata": {
  "kernelspec": {
   "display_name": "Python 3",
   "language": "python",
   "name": "python3"
  },
  "language_info": {
   "codemirror_mode": {
    "name": "ipython",
    "version": 3
   },
   "file_extension": ".py",
   "mimetype": "text/x-python",
   "name": "python",
   "nbconvert_exporter": "python",
   "pygments_lexer": "ipython3",
   "version": "3.8.5"
  }
 },
 "nbformat": 4,
 "nbformat_minor": 4
}
